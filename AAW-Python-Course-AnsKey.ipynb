{
 "metadata": {
  "name": "",
  "signature": "sha256:359f1048e1ea58d1be0d0fb2b3263f39c1fdacef43e35f39dfde7354805205d2"
 },
 "nbformat": 3,
 "nbformat_minor": 0,
 "worksheets": [
  {
   "cells": [
    {
     "cell_type": "code",
     "collapsed": false,
     "input": [
      "year=2014\n",
      "team='seahawks'\n",
      "year_string = str(year)\n",
      "year_team = year_string + team \n"
     ],
     "language": "python",
     "metadata": {},
     "outputs": [],
     "prompt_number": 6
    },
    {
     "cell_type": "code",
     "collapsed": false,
     "input": [
      "#Exercise 1: Increase year by more years and then combine that variable, year and team into a string\n",
      "moreyears=2\n",
      "\n",
      "#add moreyears to year to create new_year\n",
      "new_year=year+moreyears\n",
      "print new_year"
     ],
     "language": "python",
     "metadata": {},
     "outputs": [
      {
       "output_type": "stream",
       "stream": "stdout",
       "text": [
        "2016\n"
       ]
      }
     ],
     "prompt_number": 7
    },
    {
     "cell_type": "code",
     "collapsed": false,
     "input": [
      "#change new_year to the correct variable type\n",
      "new_year_str=str(new_year)\n",
      "print new_year_str"
     ],
     "language": "python",
     "metadata": {},
     "outputs": [
      {
       "output_type": "stream",
       "stream": "stdout",
       "text": [
        "2016\n"
       ]
      }
     ],
     "prompt_number": 8
    },
    {
     "cell_type": "code",
     "collapsed": false,
     "input": [
      "#create year_team2\n",
      "year_team2 = year_string + team + new_year_str \n",
      "\n",
      "print year_team2"
     ],
     "language": "python",
     "metadata": {},
     "outputs": [
      {
       "output_type": "stream",
       "stream": "stdout",
       "text": [
        "2014seahawks2016\n"
       ]
      }
     ],
     "prompt_number": 9
    },
    {
     "cell_type": "code",
     "collapsed": false,
     "input": [
      "years =[2014,2013,2012]\n",
      "teams = ['seahawks','ravens','giants']\n"
     ],
     "language": "python",
     "metadata": {},
     "outputs": [],
     "prompt_number": 16
    },
    {
     "cell_type": "code",
     "collapsed": false,
     "input": [
      "#Exercise 2: Another important list function is .append which adds another element to a list\n",
      "#Create and print a list that adds three elements to the list the three elements of the list \n",
      "#are the sums of all combination the numbers in the list years\n",
      "year1=years[0]+years[1]\n",
      "year2=years[1]+years[2]\n",
      "year3=years[2]+years[0]\n",
      "\n",
      "print year1\n",
      "print year2\n",
      "print year3\n"
     ],
     "language": "python",
     "metadata": {},
     "outputs": [
      {
       "output_type": "stream",
       "stream": "stdout",
       "text": [
        "4027\n",
        "4025\n",
        "4026\n"
       ]
      }
     ],
     "prompt_number": 17
    },
    {
     "cell_type": "code",
     "collapsed": false,
     "input": [
      "years.append(year1)\n",
      "years.append(year2)\n",
      "years.append(year3)\n",
      "\n",
      "print years"
     ],
     "language": "python",
     "metadata": {},
     "outputs": [
      {
       "output_type": "stream",
       "stream": "stdout",
       "text": [
        "[2014, 2013, 2012, 4027, 4025, 4026]\n"
       ]
      }
     ],
     "prompt_number": 18
    },
    {
     "cell_type": "code",
     "collapsed": false,
     "input": [
      "superbowl_chmp ={2014:'seahawks',2013:'ravens',2012:'giants'}\n",
      "qtr_bcks={'seahawks':'Russel Wilson','ravens':'Joe Flacco', 'Giants':'Eli Manning'}\n",
      "\n"
     ],
     "language": "python",
     "metadata": {},
     "outputs": [],
     "prompt_number": 19
    },
    {
     "cell_type": "code",
     "collapsed": false,
     "input": [
      "#Exercise 3: Create a list of the superbowl winning quarterbacks using superbowl_chmp and qtr_backs dictionaries above\n",
      "superbowl_qtr=[]\n",
      "superbowl_qtr.append(qtr_bcks[superbowl_chmp[2014]])\n",
      "print superbowl_qtr"
     ],
     "language": "python",
     "metadata": {},
     "outputs": [
      {
       "output_type": "stream",
       "stream": "stdout",
       "text": [
        "['Russel Wilson']\n"
       ]
      }
     ],
     "prompt_number": 26
    },
    {
     "cell_type": "code",
     "collapsed": false,
     "input": [
      "superbowl_qtr.append(qtr_bcks[superbowl_chmp[2013]])\n",
      "print superbowl_qtr\n"
     ],
     "language": "python",
     "metadata": {},
     "outputs": [
      {
       "output_type": "stream",
       "stream": "stdout",
       "text": [
        "['Russel Wilson', 'Joe Flacco']\n"
       ]
      }
     ],
     "prompt_number": 27
    },
    {
     "cell_type": "code",
     "collapsed": false,
     "input": [
      "superbowl_qtr.append(qtr_bcks[superbowl_chmp[2012].capitalize()])\n",
      "print superbowl_qtr"
     ],
     "language": "python",
     "metadata": {},
     "outputs": [
      {
       "output_type": "stream",
       "stream": "stdout",
       "text": [
        "['Russel Wilson', 'Joe Flacco', 'Eli Manning']\n"
       ]
      }
     ],
     "prompt_number": 29
    },
    {
     "cell_type": "code",
     "collapsed": false,
     "input": [
      "years =[2014,2013,2012]\n",
      "teams = ['seahawks','ravens','giants']\n",
      "\n",
      "\n"
     ],
     "language": "python",
     "metadata": {},
     "outputs": [],
     "prompt_number": 14
    },
    {
     "cell_type": "markdown",
     "metadata": {},
     "source": [
      "Excercise #4: Redo exercises #2 & #3 using loops "
     ]
    },
    {
     "cell_type": "code",
     "collapsed": false,
     "input": [
      "i=0\n",
      "year_len=(len(years)-1)\n",
      "while i<year_len:\n",
      "    year_tmp=years[i]+years[i+1]\n",
      "    print year_tmp\n",
      "    years.append(year_tmp)\n",
      "    print years\n",
      "    print i\n",
      "    i=i+1\n",
      "else:\n",
      "    year_tmp=years[i]+years[0]\n",
      "    print year_tmp\n",
      "    years.append(year_tmp)\n",
      "    print i\n",
      "    i=i+1\n",
      "print years    "
     ],
     "language": "python",
     "metadata": {},
     "outputs": [
      {
       "output_type": "stream",
       "stream": "stdout",
       "text": [
        "4027\n",
        "[2014, 2013, 2012, 4027, 4025, 4026, 4027]\n",
        "0\n",
        "4025\n",
        "[2014, 2013, 2012, 4027, 4025, 4026, 4027, 4025]\n",
        "1\n",
        "6039\n",
        "[2014, 2013, 2012, 4027, 4025, 4026, 4027, 4025, 6039]\n",
        "2\n",
        "8052\n",
        "[2014, 2013, 2012, 4027, 4025, 4026, 4027, 4025, 6039, 8052]\n",
        "3\n",
        "8051\n",
        "[2014, 2013, 2012, 4027, 4025, 4026, 4027, 4025, 6039, 8052, 8051]\n",
        "4\n",
        "6040\n",
        "5\n",
        "[2014, 2013, 2012, 4027, 4025, 4026, 4027, 4025, 6039, 8052, 8051, 6040]\n"
       ]
      }
     ],
     "prompt_number": 16
    },
    {
     "cell_type": "code",
     "collapsed": false,
     "input": [
      "import pandas as pd\n",
      "amzn_stock = pd.read_csv('amazon_stock.csv', sep=',',parse_dates=['Date'],index_col='Date')"
     ],
     "language": "python",
     "metadata": {},
     "outputs": [],
     "prompt_number": 1
    },
    {
     "cell_type": "code",
     "collapsed": false,
     "input": [
      "#Exercise #1: Print only 3 rows of the summary statistics as well as the summary statistics for the first 5 rows \n",
      "amzn_stock.describe().head(3)"
     ],
     "language": "python",
     "metadata": {},
     "outputs": [
      {
       "html": [
        "<div style=\"max-height:1000px;max-width:1500px;overflow:auto;\">\n",
        "<table border=\"1\" class=\"dataframe\">\n",
        "  <thead>\n",
        "    <tr style=\"text-align: right;\">\n",
        "      <th></th>\n",
        "      <th>Open</th>\n",
        "      <th>High</th>\n",
        "      <th>Low</th>\n",
        "      <th>Close</th>\n",
        "      <th>Volume</th>\n",
        "      <th>Adj Close</th>\n",
        "    </tr>\n",
        "  </thead>\n",
        "  <tbody>\n",
        "    <tr>\n",
        "      <th>count</th>\n",
        "      <td> 1271.000000</td>\n",
        "      <td> 1271.000000</td>\n",
        "      <td> 1271.000000</td>\n",
        "      <td> 1271.000000</td>\n",
        "      <td>    1271.000000</td>\n",
        "      <td> 1271.000000</td>\n",
        "    </tr>\n",
        "    <tr>\n",
        "      <th>mean</th>\n",
        "      <td>  224.673438</td>\n",
        "      <td>  227.345917</td>\n",
        "      <td>  221.804823</td>\n",
        "      <td>  224.749795</td>\n",
        "      <td> 5189088.276947</td>\n",
        "      <td>  224.749795</td>\n",
        "    </tr>\n",
        "    <tr>\n",
        "      <th>std</th>\n",
        "      <td>   78.840836</td>\n",
        "      <td>   79.371651</td>\n",
        "      <td>   78.009177</td>\n",
        "      <td>   78.695560</td>\n",
        "      <td> 3831781.664454</td>\n",
        "      <td>   78.695560</td>\n",
        "    </tr>\n",
        "  </tbody>\n",
        "</table>\n",
        "</div>"
       ],
       "metadata": {},
       "output_type": "pyout",
       "prompt_number": 7,
       "text": [
        "              Open         High          Low        Close          Volume  \\\n",
        "count  1271.000000  1271.000000  1271.000000  1271.000000     1271.000000   \n",
        "mean    224.673438   227.345917   221.804823   224.749795  5189088.276947   \n",
        "std      78.840836    79.371651    78.009177    78.695560  3831781.664454   \n",
        "\n",
        "         Adj Close  \n",
        "count  1271.000000  \n",
        "mean    224.749795  \n",
        "std      78.695560  "
       ]
      }
     ],
     "prompt_number": 7
    },
    {
     "cell_type": "code",
     "collapsed": false,
     "input": [
      "amzn_stock.head(5).describe()"
     ],
     "language": "python",
     "metadata": {},
     "outputs": [
      {
       "html": [
        "<div style=\"max-height:1000px;max-width:1500px;overflow:auto;\">\n",
        "<table border=\"1\" class=\"dataframe\">\n",
        "  <thead>\n",
        "    <tr style=\"text-align: right;\">\n",
        "      <th></th>\n",
        "      <th>Open</th>\n",
        "      <th>High</th>\n",
        "      <th>Low</th>\n",
        "      <th>Close</th>\n",
        "      <th>Volume</th>\n",
        "      <th>Adj Close</th>\n",
        "    </tr>\n",
        "  </thead>\n",
        "  <tbody>\n",
        "    <tr>\n",
        "      <th>count</th>\n",
        "      <td>  5.000000</td>\n",
        "      <td>  5.000000</td>\n",
        "      <td>  5.000000</td>\n",
        "      <td>  5.000000</td>\n",
        "      <td>       5.000000</td>\n",
        "      <td>  5.000000</td>\n",
        "    </tr>\n",
        "    <tr>\n",
        "      <th>mean</th>\n",
        "      <td> 79.260000</td>\n",
        "      <td> 80.470000</td>\n",
        "      <td> 78.162000</td>\n",
        "      <td> 79.106000</td>\n",
        "      <td> 5721560.000000</td>\n",
        "      <td> 79.106000</td>\n",
        "    </tr>\n",
        "    <tr>\n",
        "      <th>std</th>\n",
        "      <td>  1.041129</td>\n",
        "      <td>  1.321552</td>\n",
        "      <td>  0.714612</td>\n",
        "      <td>  1.075584</td>\n",
        "      <td> 1248600.898206</td>\n",
        "      <td>  1.075584</td>\n",
        "    </tr>\n",
        "    <tr>\n",
        "      <th>min</th>\n",
        "      <td> 78.270000</td>\n",
        "      <td> 78.960000</td>\n",
        "      <td> 77.510000</td>\n",
        "      <td> 78.140000</td>\n",
        "      <td> 4140200.000000</td>\n",
        "      <td> 78.140000</td>\n",
        "    </tr>\n",
        "    <tr>\n",
        "      <th>25%</th>\n",
        "      <td> 78.390000</td>\n",
        "      <td> 79.780000</td>\n",
        "      <td> 77.630000</td>\n",
        "      <td> 78.460000</td>\n",
        "      <td> 4671500.000000</td>\n",
        "      <td> 78.460000</td>\n",
        "    </tr>\n",
        "    <tr>\n",
        "      <th>50%</th>\n",
        "      <td> 79.040000</td>\n",
        "      <td> 80.150000</td>\n",
        "      <td> 77.800000</td>\n",
        "      <td> 78.870000</td>\n",
        "      <td> 6245800.000000</td>\n",
        "      <td> 78.870000</td>\n",
        "    </tr>\n",
        "    <tr>\n",
        "      <th>75%</th>\n",
        "      <td> 79.860000</td>\n",
        "      <td> 81.040000</td>\n",
        "      <td> 78.870000</td>\n",
        "      <td> 79.160000</td>\n",
        "      <td> 6512700.000000</td>\n",
        "      <td> 79.160000</td>\n",
        "    </tr>\n",
        "    <tr>\n",
        "      <th>max</th>\n",
        "      <td> 80.740000</td>\n",
        "      <td> 82.420000</td>\n",
        "      <td> 79.000000</td>\n",
        "      <td> 80.900000</td>\n",
        "      <td> 7037600.000000</td>\n",
        "      <td> 80.900000</td>\n",
        "    </tr>\n",
        "  </tbody>\n",
        "</table>\n",
        "</div>"
       ],
       "metadata": {},
       "output_type": "pyout",
       "prompt_number": 6,
       "text": [
        "            Open       High        Low      Close          Volume  Adj Close\n",
        "count   5.000000   5.000000   5.000000   5.000000        5.000000   5.000000\n",
        "mean   79.260000  80.470000  78.162000  79.106000  5721560.000000  79.106000\n",
        "std     1.041129   1.321552   0.714612   1.075584  1248600.898206   1.075584\n",
        "min    78.270000  78.960000  77.510000  78.140000  4140200.000000  78.140000\n",
        "25%    78.390000  79.780000  77.630000  78.460000  4671500.000000  78.460000\n",
        "50%    79.040000  80.150000  77.800000  78.870000  6245800.000000  78.870000\n",
        "75%    79.860000  81.040000  78.870000  79.160000  6512700.000000  79.160000\n",
        "max    80.740000  82.420000  79.000000  80.900000  7037600.000000  80.900000"
       ]
      }
     ],
     "prompt_number": 6
    },
    {
     "cell_type": "code",
     "collapsed": false,
     "input": [],
     "language": "python",
     "metadata": {},
     "outputs": []
    }
   ],
   "metadata": {}
  }
 ]
}